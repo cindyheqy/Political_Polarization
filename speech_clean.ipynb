{
 "cells": [
  {
   "cell_type": "code",
   "execution_count": null,
   "metadata": {},
   "outputs": [],
   "source": [
    "import re\n",
    "import os\n",
    "path = ''\n",
    "\n",
    "with open(os.path.join(path, 'speech/speech_data_txt/2017-01-13.txt'), 'r') as f:\n",
    "    text = f.read().splitlines()\n",
    "speech = []\n",
    "for i in range(len(text)):\n",
    "    j = i\n",
    "    while re.search('(.*Mr|.*Mrs).+Speaker', text[i]) != None:\n",
    "        if re.search('SPEAKER', text[j]) != None:\n",
    "            break\n",
    "        if (len(text[j]) >= 10) & ('VerDate' not in text[j]) & ('CONGRESSIONAL RECORD' not in text[j]):\n",
    "            speech.append(text[j])\n",
    "        j += 1\n",
    "        if j == len(text):\n",
    "            break\n",
    "speech"
   ]
  }
 ],
 "metadata": {
  "kernelspec": {
   "display_name": "Python 3.10.6 ('geopandas')",
   "language": "python",
   "name": "python3"
  },
  "language_info": {
   "name": "python",
   "version": "3.10.6"
  },
  "orig_nbformat": 4,
  "vscode": {
   "interpreter": {
    "hash": "1867abd3db812f896acd216ef86d6d5ffdb1ce781e3acd81530cb839bf47e5bb"
   }
  }
 },
 "nbformat": 4,
 "nbformat_minor": 2
}
