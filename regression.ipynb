{
 "cells": [
  {
   "cell_type": "code",
   "execution_count": 73,
   "metadata": {},
   "outputs": [],
   "source": [
    "import pandas as pd\n",
    "import os\n",
    "import statsmodels.formula.api as smf\n",
    "import matplotlib.pyplot as plt\n",
    "import numpy as np\n",
    "from matplotlib import colors"
   ]
  },
  {
   "cell_type": "code",
   "execution_count": 74,
   "metadata": {},
   "outputs": [],
   "source": [
    "path = '/Users/guangbo_niu/Library/Mobile Documents/com~apple~CloudDocs/Academics/Autumn 2022/DPPP 2/Political_Polarization/tables'\n",
    "congress_polarity = pd.read_csv(os.path.join(path, 'roll_call.csv'))\n",
    "public_opinion = pd.read_csv(os.path.join(path, 'public_opinion.csv'))\n",
    "speech = pd.read_csv(os.path.join(path, 'speech.csv'))"
   ]
  },
  {
   "cell_type": "code",
   "execution_count": 75,
   "metadata": {},
   "outputs": [],
   "source": [
    "# calculate absolute values of roll_call polarity and get means by date\n",
    "congress_polarity['roll_call_polarity_abs'] = congress_polarity['polarity'].abs()\n",
    "roll_call_polarity = pd.DataFrame(congress_polarity.groupby('Date')['roll_call_polarity_abs'].mean())\n",
    "roll_call_polarity = roll_call_polarity.reset_index()\n",
    "\n",
    "# merge roll call and speech data for regression\n",
    "speech['speech_polarity']=speech['Polarity']\n",
    "roll_call_plus_speech = pd.merge(roll_call_polarity, speech.loc[:, ['Time', 'speech_polarity']], left_on='Date', right_on='Time')"
   ]
  },
  {
   "cell_type": "code",
   "execution_count": 76,
   "metadata": {},
   "outputs": [
    {
     "name": "stdout",
     "output_type": "stream",
     "text": [
      "                              OLS Regression Results                              \n",
      "==================================================================================\n",
      "Dep. Variable:     roll_call_polarity_abs   R-squared:                       0.083\n",
      "Model:                                OLS   Adj. R-squared:                  0.081\n",
      "Method:                     Least Squares   F-statistic:                     41.71\n",
      "Date:                    Wed, 07 Dec 2022   Prob (F-statistic):           2.68e-10\n",
      "Time:                            20:56:57   Log-Likelihood:                -117.47\n",
      "No. Observations:                     465   AIC:                             238.9\n",
      "Df Residuals:                         463   BIC:                             247.2\n",
      "Df Model:                               1                                         \n",
      "Covariance Type:                nonrobust                                         \n",
      "===================================================================================\n",
      "                      coef    std err          t      P>|t|      [0.025      0.975]\n",
      "-----------------------------------------------------------------------------------\n",
      "Intercept           1.0582      0.073     14.533      0.000       0.915       1.201\n",
      "speech_polarity    -4.4224      0.685     -6.459      0.000      -5.768      -3.077\n",
      "==============================================================================\n",
      "Omnibus:                      134.582   Durbin-Watson:                   2.198\n",
      "Prob(Omnibus):                  0.000   Jarque-Bera (JB):               32.256\n",
      "Skew:                          -0.369   Prob(JB):                     9.90e-08\n",
      "Kurtosis:                       1.941   Cond. No.                         47.8\n",
      "==============================================================================\n",
      "\n",
      "Notes:\n",
      "[1] Standard Errors assume that the covariance matrix of the errors is correctly specified.\n"
     ]
    }
   ],
   "source": [
    "roll_call_plus_speech_reg = smf.ols('roll_call_polarity_abs ~ speech_polarity', data=roll_call_plus_speech).fit()\n",
    "print(roll_call_plus_speech_reg.summary())"
   ]
  }
 ],
 "metadata": {
  "kernelspec": {
   "display_name": "Python 3.10.4 ('linear-models')",
   "language": "python",
   "name": "python3"
  },
  "language_info": {
   "codemirror_mode": {
    "name": "ipython",
    "version": 3
   },
   "file_extension": ".py",
   "mimetype": "text/x-python",
   "name": "python",
   "nbconvert_exporter": "python",
   "pygments_lexer": "ipython3",
   "version": "3.10.4"
  },
  "orig_nbformat": 4,
  "vscode": {
   "interpreter": {
    "hash": "e938389295f718fec87e676e90b3ca8d231581e03a8d268ee3a7799058df8cc1"
   }
  }
 },
 "nbformat": 4,
 "nbformat_minor": 2
}
