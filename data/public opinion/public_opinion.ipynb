{
 "cells": [
  {
   "cell_type": "code",
   "execution_count": 222,
   "metadata": {},
   "outputs": [],
   "source": [
    "import pandas as pd\n",
    "import os\n",
    "import re\n",
    "import numpy as np\n",
    "from datetime import datetime\n",
    "\n",
    "# unzip\n",
    "# rename \"W36_Jun 18\" to \"W36_Jun18\""
   ]
  },
  {
   "cell_type": "code",
   "execution_count": 2,
   "metadata": {},
   "outputs": [],
   "source": [
    "df = pd.read_spss(\"/Users/qingyi/Documents/uchicago/courses/data_programming_for_public_policy_2/Political_Polarization/data/public opinion/W10_Mar15/ATP W10.sav\")"
   ]
  },
  {
   "cell_type": "code",
   "execution_count": 15,
   "metadata": {},
   "outputs": [
    {
     "name": "stdout",
     "output_type": "stream",
     "text": [
      "Index(['QKEY', 'NEW_Device_Type_W10', 'LANG_W10', 'MIP_W10OE_1', 'MIP_W10OE_2',\n",
      "       'MIP_W10OE_3', 'GEN_INT_A_W10', 'GEN_INT_B_W10', 'GEN_INT_C_W10',\n",
      "       'GEN_INT_D_W10', 'GEN_INT_E_W10', 'GEN_INT_F_W10', 'GEN_INT_G_W10',\n",
      "       'GEN_INT_H_W10', 'GEN_INT_I_W10', 'GEN_INT_J_W10', 'GEN_INT_K_W10',\n",
      "       'GEN_INT_L_W10', 'GEN_INTREF_W10', 'TRUST_NHBR_W10', 'LOCALELECT_W10',\n",
      "       'PARTICIPATE_A_W10', 'PARTICIPATE_B_W10', 'PARTICIPATE_C_W10',\n",
      "       'LIBRARY1_W10', 'LIBRARY2_W10', 'THOUGHT_W10', 'GEN1_A_W10',\n",
      "       'GEN1_B_W10', 'GEN1_C_W10', 'GEN1_D_W10', 'GEN1_E_W10', 'GEN1_F_W10',\n",
      "       'GEN1REF_W10', 'GEN2_A_W10', 'GEN2_B_W10', 'GEN2_C_W10', 'GEN2_D_W10',\n",
      "       'GEN2_E_W10', 'GEN2_F_W10', 'GEN3A_W10', 'GEN3B_W10', 'GEN3C_W10',\n",
      "       'GEN3D_W10', 'GEN3E_W10', 'GEN4_1_W10', 'GEN4_2_W10', 'GEN4_3_W10',\n",
      "       'GEN4_4_W10', 'GEN4_5_W10'],\n",
      "      dtype='object')\n"
     ]
    }
   ],
   "source": [
    "print(df.columns[0:50])"
   ]
  },
  {
   "cell_type": "code",
   "execution_count": 17,
   "metadata": {},
   "outputs": [
    {
     "data": {
      "text/plain": [
       "['Moderate', 'Conservative', 'Liberal', 'Very conservative', 'Very liberal', 'Don’t know/Refused']\n",
       "Categories (6, object): ['Conservative', 'Don’t know/Refused', 'Liberal', 'Moderate', 'Very conservative', 'Very liberal']"
      ]
     },
     "execution_count": 17,
     "metadata": {},
     "output_type": "execute_result"
    }
   ],
   "source": []
  },
  {
   "cell_type": "code",
   "execution_count": 22,
   "metadata": {},
   "outputs": [
    {
     "data": {
      "text/plain": [
       "'/Users/qingyi/Documents/uchicago/courses/data_programming_for_public_policy_2/Political_Polarization/data/public opinion'"
      ]
     },
     "execution_count": 22,
     "metadata": {},
     "output_type": "execute_result"
    }
   ],
   "source": [
    "os.getcwd()"
   ]
  },
  {
   "cell_type": "code",
   "execution_count": 25,
   "metadata": {},
   "outputs": [
    {
     "data": {
      "text/plain": [
       "['W10_Mar15',\n",
       " 'W19_Jul16',\n",
       " 'W24_Jan17',\n",
       " 'W35_May18',\n",
       " 'W30_Dec17',\n",
       " 'W20_Aug16',\n",
       " 'W36_Jun 18',\n",
       " '.DS_Store',\n",
       " 'W38_Sep18',\n",
       " 'W40_Nov18',\n",
       " 'W21_Sep16',\n",
       " 'W14.5_Diary16',\n",
       " 'W23_Nov16',\n",
       " 'public_opinion.ipynb',\n",
       " 'W17_May16',\n",
       " 'W26_Apr17',\n",
       " 'W22_Oct16',\n",
       " 'W39_Nov18',\n",
       " 'W31_Feb18',\n",
       " 'W27_May17',\n",
       " 'W41_Dec18',\n",
       " 'W14_Jan16',\n",
       " '.ipynb_checkpoints',\n",
       " 'W32_Feb18',\n",
       " 'W37_Jul18',\n",
       " 'W18_Jun16',\n",
       " 'W34_Apr18',\n",
       " 'W15_Mar16',\n",
       " 'W16_Apr16',\n",
       " 'W28_Aug17',\n",
       " 'W33_Mar18',\n",
       " 'W29_Sep17',\n",
       " 'W13_Dec15']"
      ]
     },
     "execution_count": 25,
     "metadata": {},
     "output_type": "execute_result"
    }
   ],
   "source": [
    "os.listdir()"
   ]
  },
  {
   "cell_type": "code",
   "execution_count": 226,
   "metadata": {},
   "outputs": [
    {
     "name": "stdout",
     "output_type": "stream",
     "text": [
      "          Time  Polarity\n",
      "0   2015-03-15  0.383233\n",
      "28  2015-12-15  0.415567\n",
      "18  2016-01-16  0.415750\n",
      "23  2016-03-16  0.416136\n",
      "24  2016-04-16  0.415792\n",
      "11  2016-05-16  0.418773\n",
      "21  2016-06-16  0.415995\n",
      "1   2016-07-16  0.415005\n",
      "6   2016-08-16  0.417643\n",
      "9   2016-09-16  0.419398\n",
      "13  2016-10-16  0.417803\n",
      "10  2016-11-16  0.417766\n",
      "3   2017-01-17  0.417493\n",
      "12  2017-04-17  0.416266\n",
      "16  2017-05-17  0.415595\n",
      "25  2017-08-17  0.430163\n",
      "27  2017-09-17  0.431885\n",
      "5   2017-12-17  0.431550\n",
      "19  2018-02-18  0.419334\n",
      "15  2018-02-18  0.432751\n",
      "26  2018-03-18  0.409783\n",
      "22  2018-04-18  0.410004\n",
      "4   2018-05-18  0.433415\n",
      "2   2018-06-18  0.433918\n",
      "20  2018-07-18  0.432726\n",
      "7   2018-09-18  0.406459\n",
      "8   2018-11-18  0.406202\n",
      "14  2018-11-18  0.407391\n",
      "17  2018-12-18  0.386419\n"
     ]
    }
   ],
   "source": [
    "# delete W14.5_Diary16\n",
    "time_list = []\n",
    "polarity_list = []\n",
    "\n",
    "def convert_time(fname): \n",
    "    time = folder\n",
    "    time = re.sub('W10|W13', '2015', time)\n",
    "    time = re.sub('W14|W15|W16|W17|W18|W19|W20|W21|W22|W23', '2016', time)\n",
    "    time = re.sub('W24|W26|W27|W28|W29|W30', '2017', time)\n",
    "    time = re.sub('W31|W32|W33|W34|W35|W36|W37|W38|W39|W40|W41', '2018', time)\n",
    "    time = datetime.strptime(time, '%Y_%b%d').date()\n",
    "    return time\n",
    "\n",
    "for folder in os.listdir(): \n",
    "    if folder.startswith('W'): \n",
    "        time = convert_time(folder)\n",
    "        time_list.append(time)\n",
    "        for file in os.listdir(folder): \n",
    "            if file.endswith(\".sav\"): \n",
    "                df = pd.read_spss(os.path.join(folder, file))\n",
    "                # get_ideo(df)\n",
    "                polarity = get_polarity(df)\n",
    "                polarity_list.append(polarity)\n",
    "\n",
    "data = {'Time': time_list, 'Polarity': polarity_list}\n",
    "polarity_change = pd.DataFrame(data)\n",
    "polarity_change = polarity_change.sort_values(by='Time')\n",
    "print(polarity_change)"
   ]
  },
  {
   "cell_type": "code",
   "execution_count": 209,
   "metadata": {},
   "outputs": [
    {
     "data": {
      "text/plain": [
       "'1a'"
      ]
     },
     "execution_count": 209,
     "metadata": {},
     "output_type": "execute_result"
    }
   ],
   "source": [
    "f = \"W12_a1\"\n",
    "f = re.sub('W[0-9|_]+', '1', f)\n",
    "f[:-1]"
   ]
  },
  {
   "cell_type": "code",
   "execution_count": 189,
   "metadata": {},
   "outputs": [
    {
     "ename": "KeyError",
     "evalue": "'F_IDEO_FINAL'",
     "output_type": "error",
     "traceback": [
      "\u001b[0;31m---------------------------------------------------------------------------\u001b[0m",
      "\u001b[0;31mKeyError\u001b[0m                                  Traceback (most recent call last)",
      "File \u001b[0;32m~/opt/anaconda3/lib/python3.9/site-packages/pandas/core/indexes/base.py:3621\u001b[0m, in \u001b[0;36mIndex.get_loc\u001b[0;34m(self, key, method, tolerance)\u001b[0m\n\u001b[1;32m   3620\u001b[0m \u001b[39mtry\u001b[39;00m:\n\u001b[0;32m-> 3621\u001b[0m     \u001b[39mreturn\u001b[39;00m \u001b[39mself\u001b[39;49m\u001b[39m.\u001b[39;49m_engine\u001b[39m.\u001b[39;49mget_loc(casted_key)\n\u001b[1;32m   3622\u001b[0m \u001b[39mexcept\u001b[39;00m \u001b[39mKeyError\u001b[39;00m \u001b[39mas\u001b[39;00m err:\n",
      "File \u001b[0;32m~/opt/anaconda3/lib/python3.9/site-packages/pandas/_libs/index.pyx:136\u001b[0m, in \u001b[0;36mpandas._libs.index.IndexEngine.get_loc\u001b[0;34m()\u001b[0m\n",
      "File \u001b[0;32m~/opt/anaconda3/lib/python3.9/site-packages/pandas/_libs/index.pyx:163\u001b[0m, in \u001b[0;36mpandas._libs.index.IndexEngine.get_loc\u001b[0;34m()\u001b[0m\n",
      "File \u001b[0;32mpandas/_libs/hashtable_class_helper.pxi:5198\u001b[0m, in \u001b[0;36mpandas._libs.hashtable.PyObjectHashTable.get_item\u001b[0;34m()\u001b[0m\n",
      "File \u001b[0;32mpandas/_libs/hashtable_class_helper.pxi:5206\u001b[0m, in \u001b[0;36mpandas._libs.hashtable.PyObjectHashTable.get_item\u001b[0;34m()\u001b[0m\n",
      "\u001b[0;31mKeyError\u001b[0m: 'F_IDEO_FINAL'",
      "\nThe above exception was the direct cause of the following exception:\n",
      "\u001b[0;31mKeyError\u001b[0m                                  Traceback (most recent call last)",
      "\u001b[1;32m/Users/qingyi/Documents/uchicago/courses/data_programming_for_public_policy_2/Political_Polarization/data/public opinion/public_opinion.ipynb Cell 9\u001b[0m in \u001b[0;36m<cell line: 10>\u001b[0;34m()\u001b[0m\n\u001b[1;32m      <a href='vscode-notebook-cell:/Users/qingyi/Documents/uchicago/courses/data_programming_for_public_policy_2/Political_Polarization/data/public%20opinion/public_opinion.ipynb#X15sZmlsZQ%3D%3D?line=8'>9</a>\u001b[0m df[\u001b[39m'\u001b[39m\u001b[39mideo_weight\u001b[39m\u001b[39m'\u001b[39m] \u001b[39m=\u001b[39m \u001b[39m0\u001b[39m\n\u001b[1;32m     <a href='vscode-notebook-cell:/Users/qingyi/Documents/uchicago/courses/data_programming_for_public_policy_2/Political_Polarization/data/public%20opinion/public_opinion.ipynb#X15sZmlsZQ%3D%3D?line=9'>10</a>\u001b[0m \u001b[39mfor\u001b[39;00m i \u001b[39min\u001b[39;00m \u001b[39mrange\u001b[39m(\u001b[39m5\u001b[39m): \n\u001b[0;32m---> <a href='vscode-notebook-cell:/Users/qingyi/Documents/uchicago/courses/data_programming_for_public_policy_2/Political_Polarization/data/public%20opinion/public_opinion.ipynb#X15sZmlsZQ%3D%3D?line=10'>11</a>\u001b[0m     df[\u001b[39m'\u001b[39m\u001b[39mideo_weight\u001b[39m\u001b[39m'\u001b[39m][i] \u001b[39m=\u001b[39m weight[df[\u001b[39m'\u001b[39;49m\u001b[39mF_IDEO_FINAL\u001b[39;49m\u001b[39m'\u001b[39;49m][i]]\n",
      "File \u001b[0;32m~/opt/anaconda3/lib/python3.9/site-packages/pandas/core/frame.py:3505\u001b[0m, in \u001b[0;36mDataFrame.__getitem__\u001b[0;34m(self, key)\u001b[0m\n\u001b[1;32m   3503\u001b[0m \u001b[39mif\u001b[39;00m \u001b[39mself\u001b[39m\u001b[39m.\u001b[39mcolumns\u001b[39m.\u001b[39mnlevels \u001b[39m>\u001b[39m \u001b[39m1\u001b[39m:\n\u001b[1;32m   3504\u001b[0m     \u001b[39mreturn\u001b[39;00m \u001b[39mself\u001b[39m\u001b[39m.\u001b[39m_getitem_multilevel(key)\n\u001b[0;32m-> 3505\u001b[0m indexer \u001b[39m=\u001b[39m \u001b[39mself\u001b[39;49m\u001b[39m.\u001b[39;49mcolumns\u001b[39m.\u001b[39;49mget_loc(key)\n\u001b[1;32m   3506\u001b[0m \u001b[39mif\u001b[39;00m is_integer(indexer):\n\u001b[1;32m   3507\u001b[0m     indexer \u001b[39m=\u001b[39m [indexer]\n",
      "File \u001b[0;32m~/opt/anaconda3/lib/python3.9/site-packages/pandas/core/indexes/base.py:3623\u001b[0m, in \u001b[0;36mIndex.get_loc\u001b[0;34m(self, key, method, tolerance)\u001b[0m\n\u001b[1;32m   3621\u001b[0m     \u001b[39mreturn\u001b[39;00m \u001b[39mself\u001b[39m\u001b[39m.\u001b[39m_engine\u001b[39m.\u001b[39mget_loc(casted_key)\n\u001b[1;32m   3622\u001b[0m \u001b[39mexcept\u001b[39;00m \u001b[39mKeyError\u001b[39;00m \u001b[39mas\u001b[39;00m err:\n\u001b[0;32m-> 3623\u001b[0m     \u001b[39mraise\u001b[39;00m \u001b[39mKeyError\u001b[39;00m(key) \u001b[39mfrom\u001b[39;00m \u001b[39merr\u001b[39;00m\n\u001b[1;32m   3624\u001b[0m \u001b[39mexcept\u001b[39;00m \u001b[39mTypeError\u001b[39;00m:\n\u001b[1;32m   3625\u001b[0m     \u001b[39m# If we have a listlike key, _check_indexing_error will raise\u001b[39;00m\n\u001b[1;32m   3626\u001b[0m     \u001b[39m#  InvalidIndexError. Otherwise we fall through and re-raise\u001b[39;00m\n\u001b[1;32m   3627\u001b[0m     \u001b[39m#  the TypeError.\u001b[39;00m\n\u001b[1;32m   3628\u001b[0m     \u001b[39mself\u001b[39m\u001b[39m.\u001b[39m_check_indexing_error(key)\n",
      "\u001b[0;31mKeyError\u001b[0m: 'F_IDEO_FINAL'"
     ]
    }
   ],
   "source": [
    "# def get_weight(df): \n",
    "#     if df['F_IDEO_FINAL']\n",
    "weight = {'Moderate': 0, \n",
    "    'Conservative': -0.5, \n",
    "    'Liberal': 0.5, \n",
    "    'Very conservative': -1, \n",
    "    'Very liberal': 1, \n",
    "    'Don’t know/Refused': 0}\n",
    "df['ideo_weight'] = 0\n",
    "for i in range(5): \n",
    "    df['ideo_weight'][i] = weight[df['F_IDEO_FINAL'][i]]\n",
    "# df.head()\n",
    "# 建一张新的表，分别是ideology，weight和count（人数），\n",
    "# 然后算一个polarity的数值，用所有的数值编成另一张表格\n",
    "# 可以用来画每一年一张图（）"
   ]
  },
  {
   "cell_type": "code",
   "execution_count": 190,
   "metadata": {},
   "outputs": [
    {
     "data": {
      "text/html": [
       "<div>\n",
       "<style scoped>\n",
       "    .dataframe tbody tr th:only-of-type {\n",
       "        vertical-align: middle;\n",
       "    }\n",
       "\n",
       "    .dataframe tbody tr th {\n",
       "        vertical-align: top;\n",
       "    }\n",
       "\n",
       "    .dataframe thead th {\n",
       "        text-align: right;\n",
       "    }\n",
       "</style>\n",
       "<table border=\"1\" class=\"dataframe\">\n",
       "  <thead>\n",
       "    <tr style=\"text-align: right;\">\n",
       "      <th></th>\n",
       "      <th>QKEY</th>\n",
       "      <th>NEW_Device_Type_W41</th>\n",
       "      <th>F_LANGUAGE</th>\n",
       "      <th>FORM_W41</th>\n",
       "      <th>OPTIMIST_W41</th>\n",
       "      <th>AVGFAM_W41</th>\n",
       "      <th>HAPPENa_W41</th>\n",
       "      <th>HAPPENb_W41</th>\n",
       "      <th>HAPPENc_W41</th>\n",
       "      <th>HAPPENd_W41</th>\n",
       "      <th>...</th>\n",
       "      <th>F_PARTY_FINAL</th>\n",
       "      <th>F_PARTYLN_FINAL</th>\n",
       "      <th>F_PARTYSUM_FINAL</th>\n",
       "      <th>F_INCOME</th>\n",
       "      <th>F_INCOME_RECODE</th>\n",
       "      <th>F_REG</th>\n",
       "      <th>F_IDEO</th>\n",
       "      <th>F_INTUSER</th>\n",
       "      <th>F_VOLSUM</th>\n",
       "      <th>WEIGHT_W41</th>\n",
       "    </tr>\n",
       "  </thead>\n",
       "  <tbody>\n",
       "    <tr>\n",
       "      <th>0</th>\n",
       "      <td>100363.0</td>\n",
       "      <td>Mobile phone</td>\n",
       "      <td>English</td>\n",
       "      <td>Form 1</td>\n",
       "      <td>Somewhat optimistic</td>\n",
       "      <td>Get worse</td>\n",
       "      <td>The U.S. economy will be STRONGER</td>\n",
       "      <td>Health care will be MORE affordable</td>\n",
       "      <td>Race relations will IMPROVE</td>\n",
       "      <td>The U.S. will be MORE important in the world</td>\n",
       "      <td>...</td>\n",
       "      <td>Democrat</td>\n",
       "      <td>NaN</td>\n",
       "      <td>Dem/Lean Dem</td>\n",
       "      <td>$100,000 to less than $150,000</td>\n",
       "      <td>$75,000+</td>\n",
       "      <td>You are ABSOLUTELY CERTAIN that you are regist...</td>\n",
       "      <td>Liberal</td>\n",
       "      <td>Internet User</td>\n",
       "      <td>No</td>\n",
       "      <td>0.599006</td>\n",
       "    </tr>\n",
       "    <tr>\n",
       "      <th>1</th>\n",
       "      <td>101224.0</td>\n",
       "      <td>Mobile phone</td>\n",
       "      <td>English</td>\n",
       "      <td>Form 1</td>\n",
       "      <td>Somewhat optimistic</td>\n",
       "      <td>Get better</td>\n",
       "      <td>The U.S. economy will be STRONGER</td>\n",
       "      <td>Health care will be LESS affordable</td>\n",
       "      <td>Race relations will IMPROVE</td>\n",
       "      <td>The U.S. will be MORE important in the world</td>\n",
       "      <td>...</td>\n",
       "      <td>Republican</td>\n",
       "      <td>NaN</td>\n",
       "      <td>Rep/Lean Rep</td>\n",
       "      <td>$40,000 to less than $50,000</td>\n",
       "      <td>$30-$74,999</td>\n",
       "      <td>You are ABSOLUTELY CERTAIN that you are regist...</td>\n",
       "      <td>Conservative</td>\n",
       "      <td>Internet User</td>\n",
       "      <td>Yes</td>\n",
       "      <td>0.292981</td>\n",
       "    </tr>\n",
       "    <tr>\n",
       "      <th>2</th>\n",
       "      <td>101437.0</td>\n",
       "      <td>Desktop</td>\n",
       "      <td>English</td>\n",
       "      <td>Form 1</td>\n",
       "      <td>Somewhat pessimistic</td>\n",
       "      <td>Get worse</td>\n",
       "      <td>The U.S. economy will be WEAKER</td>\n",
       "      <td>Health care will be LESS affordable</td>\n",
       "      <td>Race relations will GET WORSE</td>\n",
       "      <td>The U.S. will be LESS important in the world</td>\n",
       "      <td>...</td>\n",
       "      <td>Republican</td>\n",
       "      <td>NaN</td>\n",
       "      <td>Rep/Lean Rep</td>\n",
       "      <td>$10,000 to less than $20,000</td>\n",
       "      <td>&lt;$30,000</td>\n",
       "      <td>You are ABSOLUTELY CERTAIN that you are regist...</td>\n",
       "      <td>Conservative</td>\n",
       "      <td>Internet User</td>\n",
       "      <td>No</td>\n",
       "      <td>0.418871</td>\n",
       "    </tr>\n",
       "    <tr>\n",
       "      <th>3</th>\n",
       "      <td>102130.0</td>\n",
       "      <td>Mobile phone</td>\n",
       "      <td>English</td>\n",
       "      <td>Form 1</td>\n",
       "      <td>Somewhat optimistic</td>\n",
       "      <td>Stay about the same</td>\n",
       "      <td>The U.S. economy will be WEAKER</td>\n",
       "      <td>Health care will be LESS affordable</td>\n",
       "      <td>Race relations will IMPROVE</td>\n",
       "      <td>The U.S. will be LESS important in the world</td>\n",
       "      <td>...</td>\n",
       "      <td>Independent</td>\n",
       "      <td>Refused</td>\n",
       "      <td>DK/Refused/No lean</td>\n",
       "      <td>Refused</td>\n",
       "      <td>Don't know/Refused</td>\n",
       "      <td>You are ABSOLUTELY CERTAIN that you are regist...</td>\n",
       "      <td>Moderate</td>\n",
       "      <td>Non Internet User</td>\n",
       "      <td>Yes</td>\n",
       "      <td>0.342058</td>\n",
       "    </tr>\n",
       "    <tr>\n",
       "      <th>4</th>\n",
       "      <td>103094.0</td>\n",
       "      <td>Mobile phone</td>\n",
       "      <td>English</td>\n",
       "      <td>Form 1</td>\n",
       "      <td>Somewhat optimistic</td>\n",
       "      <td>Stay about the same</td>\n",
       "      <td>Refused</td>\n",
       "      <td>Health care will be LESS affordable</td>\n",
       "      <td>Refused</td>\n",
       "      <td>The U.S. will be LESS important in the world</td>\n",
       "      <td>...</td>\n",
       "      <td>Something else</td>\n",
       "      <td>Refused</td>\n",
       "      <td>DK/Refused/No lean</td>\n",
       "      <td>$20,000 to less than $30,000</td>\n",
       "      <td>&lt;$30,000</td>\n",
       "      <td>You are NOT registered to vote at your current...</td>\n",
       "      <td>Liberal</td>\n",
       "      <td>Internet User</td>\n",
       "      <td>Yes</td>\n",
       "      <td>0.329465</td>\n",
       "    </tr>\n",
       "  </tbody>\n",
       "</table>\n",
       "<p>5 rows × 124 columns</p>\n",
       "</div>"
      ],
      "text/plain": [
       "       QKEY NEW_Device_Type_W41 F_LANGUAGE FORM_W41          OPTIMIST_W41  \\\n",
       "0  100363.0        Mobile phone    English   Form 1   Somewhat optimistic   \n",
       "1  101224.0        Mobile phone    English   Form 1   Somewhat optimistic   \n",
       "2  101437.0             Desktop    English   Form 1  Somewhat pessimistic   \n",
       "3  102130.0        Mobile phone    English   Form 1   Somewhat optimistic   \n",
       "4  103094.0        Mobile phone    English   Form 1   Somewhat optimistic   \n",
       "\n",
       "            AVGFAM_W41                        HAPPENa_W41  \\\n",
       "0            Get worse  The U.S. economy will be STRONGER   \n",
       "1           Get better  The U.S. economy will be STRONGER   \n",
       "2            Get worse    The U.S. economy will be WEAKER   \n",
       "3  Stay about the same    The U.S. economy will be WEAKER   \n",
       "4  Stay about the same                            Refused   \n",
       "\n",
       "                           HAPPENb_W41                    HAPPENc_W41  \\\n",
       "0  Health care will be MORE affordable    Race relations will IMPROVE   \n",
       "1  Health care will be LESS affordable    Race relations will IMPROVE   \n",
       "2  Health care will be LESS affordable  Race relations will GET WORSE   \n",
       "3  Health care will be LESS affordable    Race relations will IMPROVE   \n",
       "4  Health care will be LESS affordable                        Refused   \n",
       "\n",
       "                                    HAPPENd_W41  ...   F_PARTY_FINAL  \\\n",
       "0  The U.S. will be MORE important in the world  ...        Democrat   \n",
       "1  The U.S. will be MORE important in the world  ...      Republican   \n",
       "2  The U.S. will be LESS important in the world  ...      Republican   \n",
       "3  The U.S. will be LESS important in the world  ...     Independent   \n",
       "4  The U.S. will be LESS important in the world  ...  Something else   \n",
       "\n",
       "  F_PARTYLN_FINAL    F_PARTYSUM_FINAL                        F_INCOME  \\\n",
       "0             NaN        Dem/Lean Dem  $100,000 to less than $150,000   \n",
       "1             NaN        Rep/Lean Rep    $40,000 to less than $50,000   \n",
       "2             NaN        Rep/Lean Rep    $10,000 to less than $20,000   \n",
       "3         Refused  DK/Refused/No lean                         Refused   \n",
       "4         Refused  DK/Refused/No lean    $20,000 to less than $30,000   \n",
       "\n",
       "      F_INCOME_RECODE                                              F_REG  \\\n",
       "0            $75,000+  You are ABSOLUTELY CERTAIN that you are regist...   \n",
       "1         $30-$74,999  You are ABSOLUTELY CERTAIN that you are regist...   \n",
       "2            <$30,000  You are ABSOLUTELY CERTAIN that you are regist...   \n",
       "3  Don't know/Refused  You are ABSOLUTELY CERTAIN that you are regist...   \n",
       "4            <$30,000  You are NOT registered to vote at your current...   \n",
       "\n",
       "         F_IDEO          F_INTUSER F_VOLSUM WEIGHT_W41  \n",
       "0       Liberal      Internet User       No   0.599006  \n",
       "1  Conservative      Internet User      Yes   0.292981  \n",
       "2  Conservative      Internet User       No   0.418871  \n",
       "3      Moderate  Non Internet User      Yes   0.342058  \n",
       "4       Liberal      Internet User      Yes   0.329465  \n",
       "\n",
       "[5 rows x 124 columns]"
      ]
     },
     "execution_count": 190,
     "metadata": {},
     "output_type": "execute_result"
    }
   ],
   "source": [
    "df = pd.read_spss(\"/Users/qingyi/Documents/uchicago/courses/data_programming_for_public_policy_2/Political_Polarization/data/public opinion/W41_Dec18/ATP W41.sav\")\n",
    "df.head(5)"
   ]
  },
  {
   "cell_type": "code",
   "execution_count": null,
   "metadata": {},
   "outputs": [],
   "source": [
    "df = pd.read_spss(\"/Users/qingyi/Documents/uchicago/courses/data_programming_for_public_policy_2/Political_Polarization/data/public opinion/W10_Mar15/ATP W10.sav\")"
   ]
  },
  {
   "cell_type": "code",
   "execution_count": 197,
   "metadata": {},
   "outputs": [],
   "source": [
    "def get_ideo(df):\n",
    "    df['count'] = 0\n",
    "    if 'F_IDEO_FINAL' in df.columns: \n",
    "        df_ideo = df.groupby('F_IDEO_FINAL').count()['count']\n",
    "        # print(df_ideo.index)\n",
    "    elif 'F_IDEO' in df.columns:\n",
    "        df_ideo = df.groupby('F_IDEO').count()['count']\n",
    "        # print(df_ideo.index)\n",
    "\n",
    "    df_ideo = df_ideo.to_frame() \n",
    "    df_ideo.loc['Moderate', 'weight'] = 0\n",
    "    df_ideo.loc['Conservative', 'weight'] = -0.5\n",
    "    df_ideo.loc['Liberal', 'weight'] = 0.5\n",
    "    df_ideo.loc['Very conservative', 'weight'] = -1\n",
    "    df_ideo.loc['Very liberal', 'weight'] = 1\n",
    "    df_ideo['count*weight'] = df_ideo['count'] * df_ideo['weight']\n",
    "    # if 'Don’t know/Refused' in list(df_ideo.index): \n",
    "    #     df_ideo = df_ideo.drop('Don’t know/Refused')\n",
    "    df_ideo = df_ideo.dropna()\n",
    "    \n",
    "    return df_ideo"
   ]
  },
  {
   "cell_type": "code",
   "execution_count": null,
   "metadata": {},
   "outputs": [],
   "source": [
    "def get_polarity(df): \n",
    "    df_ideo = get_ideo(df)\n",
    "    polarity = ((abs(df_ideo['count*weight'])).sum())/df_ideo['count'].sum()\n",
    "    return polarity"
   ]
  },
  {
   "cell_type": "code",
   "execution_count": 195,
   "metadata": {},
   "outputs": [
    {
     "name": "stdout",
     "output_type": "stream",
     "text": [
      "CategoricalIndex(['Conservative', 'Liberal', 'Moderate', 'Refused',\n",
      "                  'Very conservative', 'Very liberal'],\n",
      "                 categories=['Conservative', 'Liberal', 'Moderate', 'Refused', 'Very conservative', 'Very liberal'], ordered=False, dtype='category', name='F_IDEO')\n"
     ]
    },
    {
     "data": {
      "text/html": [
       "<div>\n",
       "<style scoped>\n",
       "    .dataframe tbody tr th:only-of-type {\n",
       "        vertical-align: middle;\n",
       "    }\n",
       "\n",
       "    .dataframe tbody tr th {\n",
       "        vertical-align: top;\n",
       "    }\n",
       "\n",
       "    .dataframe thead th {\n",
       "        text-align: right;\n",
       "    }\n",
       "</style>\n",
       "<table border=\"1\" class=\"dataframe\">\n",
       "  <thead>\n",
       "    <tr style=\"text-align: right;\">\n",
       "      <th></th>\n",
       "      <th>count</th>\n",
       "      <th>weight</th>\n",
       "      <th>count*weight</th>\n",
       "    </tr>\n",
       "    <tr>\n",
       "      <th>F_IDEO</th>\n",
       "      <th></th>\n",
       "      <th></th>\n",
       "      <th></th>\n",
       "    </tr>\n",
       "  </thead>\n",
       "  <tbody>\n",
       "    <tr>\n",
       "      <th>Conservative</th>\n",
       "      <td>575</td>\n",
       "      <td>-0.5</td>\n",
       "      <td>-287.5</td>\n",
       "    </tr>\n",
       "    <tr>\n",
       "      <th>Liberal</th>\n",
       "      <td>480</td>\n",
       "      <td>0.5</td>\n",
       "      <td>240.0</td>\n",
       "    </tr>\n",
       "    <tr>\n",
       "      <th>Moderate</th>\n",
       "      <td>977</td>\n",
       "      <td>0.0</td>\n",
       "      <td>0.0</td>\n",
       "    </tr>\n",
       "    <tr>\n",
       "      <th>Very conservative</th>\n",
       "      <td>206</td>\n",
       "      <td>-1.0</td>\n",
       "      <td>-206.0</td>\n",
       "    </tr>\n",
       "    <tr>\n",
       "      <th>Very liberal</th>\n",
       "      <td>214</td>\n",
       "      <td>1.0</td>\n",
       "      <td>214.0</td>\n",
       "    </tr>\n",
       "  </tbody>\n",
       "</table>\n",
       "</div>"
      ],
      "text/plain": [
       "                   count  weight  count*weight\n",
       "F_IDEO                                        \n",
       "Conservative         575    -0.5        -287.5\n",
       "Liberal              480     0.5         240.0\n",
       "Moderate             977     0.0           0.0\n",
       "Very conservative    206    -1.0        -206.0\n",
       "Very liberal         214     1.0         214.0"
      ]
     },
     "execution_count": 195,
     "metadata": {},
     "output_type": "execute_result"
    }
   ],
   "source": [
    "get_ideo(df)"
   ]
  },
  {
   "cell_type": "code",
   "execution_count": null,
   "metadata": {},
   "outputs": [
    {
     "data": {
      "text/plain": [
       "['Conservative', 'Liberal', 'Moderate', 'Very conservative', 'Very liberal']"
      ]
     },
     "execution_count": 166,
     "metadata": {},
     "output_type": "execute_result"
    }
   ],
   "source": [
    "list(get_ideo(df).index)\n"
   ]
  },
  {
   "cell_type": "code",
   "execution_count": null,
   "metadata": {},
   "outputs": [
    {
     "data": {
      "text/plain": [
       "0.3832325803372574"
      ]
     },
     "execution_count": 148,
     "metadata": {},
     "output_type": "execute_result"
    }
   ],
   "source": [
    "get_polarity(df)"
   ]
  },
  {
   "cell_type": "code",
   "execution_count": null,
   "metadata": {},
   "outputs": [],
   "source": []
  }
 ],
 "metadata": {
  "kernelspec": {
   "display_name": "Python 3.9.12 ('base')",
   "language": "python",
   "name": "python3"
  },
  "language_info": {
   "codemirror_mode": {
    "name": "ipython",
    "version": 3
   },
   "file_extension": ".py",
   "mimetype": "text/x-python",
   "name": "python",
   "nbconvert_exporter": "python",
   "pygments_lexer": "ipython3",
   "version": "3.9.12"
  },
  "orig_nbformat": 4,
  "vscode": {
   "interpreter": {
    "hash": "2ec27bf143af148f5192d6d94576d06a442de5920e2acb9c666bbed19ace4bb3"
   }
  }
 },
 "nbformat": 4,
 "nbformat_minor": 2
}
