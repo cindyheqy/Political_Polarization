{
 "cells": [
  {
   "cell_type": "code",
   "execution_count": 113,
   "metadata": {},
   "outputs": [],
   "source": [
    "import pandas as pd\n",
    "import os\n",
    "import re\n",
    "import numpy as np"
   ]
  },
  {
   "cell_type": "code",
   "execution_count": 3,
   "metadata": {},
   "outputs": [
    {
     "name": "stdout",
     "output_type": "stream",
     "text": [
      "Archive:  /Users/qingyi/Documents/uchicago/courses/data_programming_for_public_policy_2/Political_Polarization/data/public opinion/W10_Mar15.zip\n",
      "replace W10_Mar15/~$P Wave 9 que.docx? [y]es, [n]o, [A]ll, [N]one, [r]ename: ^C\n"
     ]
    }
   ],
   "source": [
    "!unzip \"/Users/qingyi/Documents/uchicago/courses/data_programming_for_public_policy_2/Political_Polarization/data/public opinion/W10_Mar15.zip\""
   ]
  },
  {
   "cell_type": "markdown",
   "metadata": {},
   "source": []
  },
  {
   "cell_type": "code",
   "execution_count": 2,
   "metadata": {},
   "outputs": [],
   "source": [
    "df = pd.read_spss(\"/Users/qingyi/Documents/uchicago/courses/data_programming_for_public_policy_2/Political_Polarization/data/public opinion/W10_Mar15/ATP W10.sav\")"
   ]
  },
  {
   "cell_type": "code",
   "execution_count": 15,
   "metadata": {},
   "outputs": [
    {
     "name": "stdout",
     "output_type": "stream",
     "text": [
      "Index(['QKEY', 'NEW_Device_Type_W10', 'LANG_W10', 'MIP_W10OE_1', 'MIP_W10OE_2',\n",
      "       'MIP_W10OE_3', 'GEN_INT_A_W10', 'GEN_INT_B_W10', 'GEN_INT_C_W10',\n",
      "       'GEN_INT_D_W10', 'GEN_INT_E_W10', 'GEN_INT_F_W10', 'GEN_INT_G_W10',\n",
      "       'GEN_INT_H_W10', 'GEN_INT_I_W10', 'GEN_INT_J_W10', 'GEN_INT_K_W10',\n",
      "       'GEN_INT_L_W10', 'GEN_INTREF_W10', 'TRUST_NHBR_W10', 'LOCALELECT_W10',\n",
      "       'PARTICIPATE_A_W10', 'PARTICIPATE_B_W10', 'PARTICIPATE_C_W10',\n",
      "       'LIBRARY1_W10', 'LIBRARY2_W10', 'THOUGHT_W10', 'GEN1_A_W10',\n",
      "       'GEN1_B_W10', 'GEN1_C_W10', 'GEN1_D_W10', 'GEN1_E_W10', 'GEN1_F_W10',\n",
      "       'GEN1REF_W10', 'GEN2_A_W10', 'GEN2_B_W10', 'GEN2_C_W10', 'GEN2_D_W10',\n",
      "       'GEN2_E_W10', 'GEN2_F_W10', 'GEN3A_W10', 'GEN3B_W10', 'GEN3C_W10',\n",
      "       'GEN3D_W10', 'GEN3E_W10', 'GEN4_1_W10', 'GEN4_2_W10', 'GEN4_3_W10',\n",
      "       'GEN4_4_W10', 'GEN4_5_W10'],\n",
      "      dtype='object')\n"
     ]
    }
   ],
   "source": [
    "print(df.columns[0:50])"
   ]
  },
  {
   "cell_type": "code",
   "execution_count": 17,
   "metadata": {},
   "outputs": [
    {
     "data": {
      "text/plain": [
       "['Moderate', 'Conservative', 'Liberal', 'Very conservative', 'Very liberal', 'Don’t know/Refused']\n",
       "Categories (6, object): ['Conservative', 'Don’t know/Refused', 'Liberal', 'Moderate', 'Very conservative', 'Very liberal']"
      ]
     },
     "execution_count": 17,
     "metadata": {},
     "output_type": "execute_result"
    }
   ],
   "source": []
  },
  {
   "cell_type": "code",
   "execution_count": 22,
   "metadata": {},
   "outputs": [
    {
     "data": {
      "text/plain": [
       "'/Users/qingyi/Documents/uchicago/courses/data_programming_for_public_policy_2/Political_Polarization/data/public opinion'"
      ]
     },
     "execution_count": 22,
     "metadata": {},
     "output_type": "execute_result"
    }
   ],
   "source": [
    "os.getcwd()"
   ]
  },
  {
   "cell_type": "code",
   "execution_count": 25,
   "metadata": {},
   "outputs": [
    {
     "data": {
      "text/plain": [
       "['W10_Mar15',\n",
       " 'W19_Jul16',\n",
       " 'W24_Jan17',\n",
       " 'W35_May18',\n",
       " 'W30_Dec17',\n",
       " 'W20_Aug16',\n",
       " 'W36_Jun 18',\n",
       " '.DS_Store',\n",
       " 'W38_Sep18',\n",
       " 'W40_Nov18',\n",
       " 'W21_Sep16',\n",
       " 'W14.5_Diary16',\n",
       " 'W23_Nov16',\n",
       " 'public_opinion.ipynb',\n",
       " 'W17_May16',\n",
       " 'W26_Apr17',\n",
       " 'W22_Oct16',\n",
       " 'W39_Nov18',\n",
       " 'W31_Feb18',\n",
       " 'W27_May17',\n",
       " 'W41_Dec18',\n",
       " 'W14_Jan16',\n",
       " '.ipynb_checkpoints',\n",
       " 'W32_Feb18',\n",
       " 'W37_Jul18',\n",
       " 'W18_Jun16',\n",
       " 'W34_Apr18',\n",
       " 'W15_Mar16',\n",
       " 'W16_Apr16',\n",
       " 'W28_Aug17',\n",
       " 'W33_Mar18',\n",
       " 'W29_Sep17',\n",
       " 'W13_Dec15']"
      ]
     },
     "execution_count": 25,
     "metadata": {},
     "output_type": "execute_result"
    }
   ],
   "source": [
    "os.listdir()"
   ]
  },
  {
   "cell_type": "code",
   "execution_count": 48,
   "metadata": {},
   "outputs": [
    {
     "name": "stdout",
     "output_type": "stream",
     "text": [
      "Yes\n",
      "Yes\n",
      "Yes\n",
      "Yes\n",
      "Yes\n",
      "Yes\n",
      "Yes\n",
      "Yes\n",
      "Yes\n",
      "Yes\n",
      "Yes\n",
      "Yes\n",
      "Yes\n",
      "Yes\n",
      "Yes\n",
      "Yes\n",
      "Yes\n",
      "Yes\n",
      "Yes\n",
      "Yes\n",
      "Yes\n",
      "Yes\n",
      "Yes\n",
      "Yes\n",
      "Yes\n",
      "Yes\n",
      "Yes\n",
      "Yes\n",
      "Yes\n"
     ]
    }
   ],
   "source": [
    "# delete W14.5_Diary16\n",
    "\n",
    "for folder in os.listdir(): \n",
    "    if folder.startswith('W'): \n",
    "        for file in os.listdir(folder): \n",
    "            if file.endswith(\".sav\"): \n",
    "                df = pd.read_spss(os.path.join(folder, file))\n",
    "                \n",
    "                # print('Yes')\n",
    "                # print(df.head(5))"
   ]
  },
  {
   "cell_type": "code",
   "execution_count": null,
   "metadata": {},
   "outputs": [],
   "source": []
  },
  {
   "cell_type": "code",
   "execution_count": 72,
   "metadata": {},
   "outputs": [
    {
     "data": {
      "text/plain": [
       "'Conservative'"
      ]
     },
     "execution_count": 72,
     "metadata": {},
     "output_type": "execute_result"
    }
   ],
   "source": [
    "df = pd.read_spss(\"/Users/qingyi/Documents/uchicago/courses/data_programming_for_public_policy_2/Political_Polarization/data/public opinion/W10_Mar15/ATP W10.sav\")\n",
    "df['F_IDEO_FINAL'][1]"
   ]
  },
  {
   "cell_type": "code",
   "execution_count": 73,
   "metadata": {},
   "outputs": [
    {
     "name": "stderr",
     "output_type": "stream",
     "text": [
      "/var/folders/yk/yvx25tk12h1_kvp_vyqb8xzm0000gn/T/ipykernel_86096/1026904431.py:11: SettingWithCopyWarning: \n",
      "A value is trying to be set on a copy of a slice from a DataFrame\n",
      "\n",
      "See the caveats in the documentation: https://pandas.pydata.org/pandas-docs/stable/user_guide/indexing.html#returning-a-view-versus-a-copy\n",
      "  df['ideo_weight'][i] = weight[df['F_IDEO_FINAL'][i]]\n"
     ]
    },
    {
     "data": {
      "text/html": [
       "<div>\n",
       "<style scoped>\n",
       "    .dataframe tbody tr th:only-of-type {\n",
       "        vertical-align: middle;\n",
       "    }\n",
       "\n",
       "    .dataframe tbody tr th {\n",
       "        vertical-align: top;\n",
       "    }\n",
       "\n",
       "    .dataframe thead th {\n",
       "        text-align: right;\n",
       "    }\n",
       "</style>\n",
       "<table border=\"1\" class=\"dataframe\">\n",
       "  <thead>\n",
       "    <tr style=\"text-align: right;\">\n",
       "      <th></th>\n",
       "      <th>QKEY</th>\n",
       "      <th>NEW_Device_Type_W10</th>\n",
       "      <th>LANG_W10</th>\n",
       "      <th>MIP_W10OE_1</th>\n",
       "      <th>MIP_W10OE_2</th>\n",
       "      <th>MIP_W10OE_3</th>\n",
       "      <th>GEN_INT_A_W10</th>\n",
       "      <th>GEN_INT_B_W10</th>\n",
       "      <th>GEN_INT_C_W10</th>\n",
       "      <th>GEN_INT_D_W10</th>\n",
       "      <th>...</th>\n",
       "      <th>F_PARTYLN_TYPOLOGY</th>\n",
       "      <th>F_PARTYSTR_FINAL</th>\n",
       "      <th>F_PARTYSUM_TYPOLOGY</th>\n",
       "      <th>F_IDEO_FINAL</th>\n",
       "      <th>F_IDEOCONSISTREC_TYPOLOGY</th>\n",
       "      <th>F_INTUSER_FINAL</th>\n",
       "      <th>F_INSURANCE_FINAL</th>\n",
       "      <th>F_INSURANCE_TYPE_W8</th>\n",
       "      <th>WEIGHT_W10</th>\n",
       "      <th>ideo_weight</th>\n",
       "    </tr>\n",
       "  </thead>\n",
       "  <tbody>\n",
       "    <tr>\n",
       "      <th>0</th>\n",
       "      <td>100197.0</td>\n",
       "      <td>Tablet</td>\n",
       "      <td>English</td>\n",
       "      <td>Race relations/Racism/Racial profiling/Civil R...</td>\n",
       "      <td>NaN</td>\n",
       "      <td>NaN</td>\n",
       "      <td>0.0</td>\n",
       "      <td>0.0</td>\n",
       "      <td>0.0</td>\n",
       "      <td>Working out (e.g. yoga, cycling, hiking)</td>\n",
       "      <td>...</td>\n",
       "      <td>NaN</td>\n",
       "      <td>Strong</td>\n",
       "      <td>Dem/Lean Dem</td>\n",
       "      <td>Moderate</td>\n",
       "      <td>Consistent Lib</td>\n",
       "      <td>Internet User</td>\n",
       "      <td>Covered by health insurance</td>\n",
       "      <td>Plan you purchased yourself</td>\n",
       "      <td>0.452014</td>\n",
       "      <td>0.0</td>\n",
       "    </tr>\n",
       "    <tr>\n",
       "      <th>1</th>\n",
       "      <td>100260.0</td>\n",
       "      <td>Tablet</td>\n",
       "      <td>English</td>\n",
       "      <td>Loss of liberty/Government intrusion on libert...</td>\n",
       "      <td>Dissatisfaction with government/politics/Scand...</td>\n",
       "      <td>NaN</td>\n",
       "      <td>0.0</td>\n",
       "      <td>Reading the Bible</td>\n",
       "      <td>0.0</td>\n",
       "      <td>Working out (e.g. yoga, cycling, hiking)</td>\n",
       "      <td>...</td>\n",
       "      <td>NaN</td>\n",
       "      <td>NaN</td>\n",
       "      <td>Rep/Lean Rep</td>\n",
       "      <td>Conservative</td>\n",
       "      <td>Consistent Cons</td>\n",
       "      <td>Internet User</td>\n",
       "      <td>Covered by health insurance</td>\n",
       "      <td>Plan through your current or previous employer</td>\n",
       "      <td>0.235428</td>\n",
       "      <td>-0.5</td>\n",
       "    </tr>\n",
       "    <tr>\n",
       "      <th>2</th>\n",
       "      <td>100314.0</td>\n",
       "      <td>Mobile phone</td>\n",
       "      <td>English</td>\n",
       "      <td>War/War in Iraq/War in Afghanistan</td>\n",
       "      <td>NaN</td>\n",
       "      <td>NaN</td>\n",
       "      <td>0.0</td>\n",
       "      <td>0.0</td>\n",
       "      <td>0.0</td>\n",
       "      <td>0.0</td>\n",
       "      <td>...</td>\n",
       "      <td>NaN</td>\n",
       "      <td>Not strong</td>\n",
       "      <td>Rep/Lean Rep</td>\n",
       "      <td>Moderate</td>\n",
       "      <td>Inconsistent</td>\n",
       "      <td>Internet User</td>\n",
       "      <td>Covered by health insurance</td>\n",
       "      <td>Plan through your current or previous employer</td>\n",
       "      <td>0.676234</td>\n",
       "      <td>0.0</td>\n",
       "    </tr>\n",
       "    <tr>\n",
       "      <th>3</th>\n",
       "      <td>100363.0</td>\n",
       "      <td>Desktop</td>\n",
       "      <td>English</td>\n",
       "      <td>Other</td>\n",
       "      <td>NaN</td>\n",
       "      <td>NaN</td>\n",
       "      <td>Country music</td>\n",
       "      <td>0.0</td>\n",
       "      <td>0.0</td>\n",
       "      <td>Working out (e.g. yoga, cycling, hiking)</td>\n",
       "      <td>...</td>\n",
       "      <td>NaN</td>\n",
       "      <td>Not strong</td>\n",
       "      <td>Dem/Lean Dem</td>\n",
       "      <td>Moderate</td>\n",
       "      <td>Inconsistent</td>\n",
       "      <td>Internet User</td>\n",
       "      <td>Covered by health insurance</td>\n",
       "      <td>Plan through your spouse's current or previous...</td>\n",
       "      <td>0.657212</td>\n",
       "      <td>0.0</td>\n",
       "    </tr>\n",
       "    <tr>\n",
       "      <th>4</th>\n",
       "      <td>100446.0</td>\n",
       "      <td>Desktop</td>\n",
       "      <td>English</td>\n",
       "      <td>Dissatisfaction with government/politics/Scand...</td>\n",
       "      <td>NaN</td>\n",
       "      <td>NaN</td>\n",
       "      <td>0.0</td>\n",
       "      <td>0.0</td>\n",
       "      <td>0.0</td>\n",
       "      <td>Working out (e.g. yoga, cycling, hiking)</td>\n",
       "      <td>...</td>\n",
       "      <td>NaN</td>\n",
       "      <td>NaN</td>\n",
       "      <td>Dem/Lean Dem</td>\n",
       "      <td>Liberal</td>\n",
       "      <td>Consistent Lib</td>\n",
       "      <td>Internet User</td>\n",
       "      <td>Covered by health insurance</td>\n",
       "      <td>Plan through your current or previous employer</td>\n",
       "      <td>0.333150</td>\n",
       "      <td>0.5</td>\n",
       "    </tr>\n",
       "  </tbody>\n",
       "</table>\n",
       "<p>5 rows × 147 columns</p>\n",
       "</div>"
      ],
      "text/plain": [
       "       QKEY NEW_Device_Type_W10 LANG_W10  \\\n",
       "0  100197.0              Tablet  English   \n",
       "1  100260.0              Tablet  English   \n",
       "2  100314.0        Mobile phone  English   \n",
       "3  100363.0             Desktop  English   \n",
       "4  100446.0             Desktop  English   \n",
       "\n",
       "                                         MIP_W10OE_1  \\\n",
       "0  Race relations/Racism/Racial profiling/Civil R...   \n",
       "1  Loss of liberty/Government intrusion on libert...   \n",
       "2                 War/War in Iraq/War in Afghanistan   \n",
       "3                                              Other   \n",
       "4  Dissatisfaction with government/politics/Scand...   \n",
       "\n",
       "                                         MIP_W10OE_2 MIP_W10OE_3  \\\n",
       "0                                                NaN         NaN   \n",
       "1  Dissatisfaction with government/politics/Scand...         NaN   \n",
       "2                                                NaN         NaN   \n",
       "3                                                NaN         NaN   \n",
       "4                                                NaN         NaN   \n",
       "\n",
       "   GEN_INT_A_W10      GEN_INT_B_W10 GEN_INT_C_W10  \\\n",
       "0            0.0                0.0           0.0   \n",
       "1            0.0  Reading the Bible           0.0   \n",
       "2            0.0                0.0           0.0   \n",
       "3  Country music                0.0           0.0   \n",
       "4            0.0                0.0           0.0   \n",
       "\n",
       "                              GEN_INT_D_W10  ... F_PARTYLN_TYPOLOGY  \\\n",
       "0  Working out (e.g. yoga, cycling, hiking)  ...                NaN   \n",
       "1  Working out (e.g. yoga, cycling, hiking)  ...                NaN   \n",
       "2                                       0.0  ...                NaN   \n",
       "3  Working out (e.g. yoga, cycling, hiking)  ...                NaN   \n",
       "4  Working out (e.g. yoga, cycling, hiking)  ...                NaN   \n",
       "\n",
       "  F_PARTYSTR_FINAL F_PARTYSUM_TYPOLOGY  F_IDEO_FINAL  \\\n",
       "0           Strong        Dem/Lean Dem      Moderate   \n",
       "1              NaN        Rep/Lean Rep  Conservative   \n",
       "2       Not strong        Rep/Lean Rep      Moderate   \n",
       "3       Not strong        Dem/Lean Dem      Moderate   \n",
       "4              NaN        Dem/Lean Dem       Liberal   \n",
       "\n",
       "  F_IDEOCONSISTREC_TYPOLOGY F_INTUSER_FINAL            F_INSURANCE_FINAL  \\\n",
       "0            Consistent Lib   Internet User  Covered by health insurance   \n",
       "1           Consistent Cons   Internet User  Covered by health insurance   \n",
       "2              Inconsistent   Internet User  Covered by health insurance   \n",
       "3              Inconsistent   Internet User  Covered by health insurance   \n",
       "4            Consistent Lib   Internet User  Covered by health insurance   \n",
       "\n",
       "                                 F_INSURANCE_TYPE_W8 WEIGHT_W10 ideo_weight  \n",
       "0                        Plan you purchased yourself   0.452014         0.0  \n",
       "1     Plan through your current or previous employer   0.235428        -0.5  \n",
       "2     Plan through your current or previous employer   0.676234         0.0  \n",
       "3  Plan through your spouse's current or previous...   0.657212         0.0  \n",
       "4     Plan through your current or previous employer   0.333150         0.5  \n",
       "\n",
       "[5 rows x 147 columns]"
      ]
     },
     "execution_count": 73,
     "metadata": {},
     "output_type": "execute_result"
    }
   ],
   "source": [
    "# def get_weight(df): \n",
    "#     if df['F_IDEO_FINAL']\n",
    "weight = {'Moderate': 0, \n",
    "    'Conservative': -0.5, \n",
    "    'Liberal': 0.5, \n",
    "    'Very conservative': -1, \n",
    "    'Very liberal': 1, \n",
    "    'Don’t know/Refused': 0}\n",
    "df['ideo_weight'] = 0\n",
    "for i in range(5): \n",
    "    df['ideo_weight'][i] = weight[df['F_IDEO_FINAL'][i]]\n",
    "# df.head()\n",
    "# 建一张新的表，分别是ideology，weight和count（人数），\n",
    "# 然后算一个polarity的数值，用所有的数值编成另一张表格\n",
    "# 可以用来画每一年一张图（）"
   ]
  },
  {
   "cell_type": "code",
   "execution_count": 133,
   "metadata": {},
   "outputs": [
    {
     "data": {
      "text/html": [
       "<div>\n",
       "<style scoped>\n",
       "    .dataframe tbody tr th:only-of-type {\n",
       "        vertical-align: middle;\n",
       "    }\n",
       "\n",
       "    .dataframe tbody tr th {\n",
       "        vertical-align: top;\n",
       "    }\n",
       "\n",
       "    .dataframe thead th {\n",
       "        text-align: right;\n",
       "    }\n",
       "</style>\n",
       "<table border=\"1\" class=\"dataframe\">\n",
       "  <thead>\n",
       "    <tr style=\"text-align: right;\">\n",
       "      <th></th>\n",
       "      <th>ideo_count</th>\n",
       "      <th>ideo_weight</th>\n",
       "      <th>count*weight</th>\n",
       "    </tr>\n",
       "    <tr>\n",
       "      <th>F_IDEO_FINAL</th>\n",
       "      <th></th>\n",
       "      <th></th>\n",
       "      <th></th>\n",
       "    </tr>\n",
       "  </thead>\n",
       "  <tbody>\n",
       "    <tr>\n",
       "      <th>Conservative</th>\n",
       "      <td>797</td>\n",
       "      <td>-0.5</td>\n",
       "      <td>-398.5</td>\n",
       "    </tr>\n",
       "    <tr>\n",
       "      <th>Liberal</th>\n",
       "      <td>632</td>\n",
       "      <td>0.5</td>\n",
       "      <td>316.0</td>\n",
       "    </tr>\n",
       "    <tr>\n",
       "      <th>Moderate</th>\n",
       "      <td>1224</td>\n",
       "      <td>0.0</td>\n",
       "      <td>0.0</td>\n",
       "    </tr>\n",
       "    <tr>\n",
       "      <th>Very conservative</th>\n",
       "      <td>270</td>\n",
       "      <td>-1.0</td>\n",
       "      <td>-270.0</td>\n",
       "    </tr>\n",
       "    <tr>\n",
       "      <th>Very liberal</th>\n",
       "      <td>220</td>\n",
       "      <td>1.0</td>\n",
       "      <td>220.0</td>\n",
       "    </tr>\n",
       "  </tbody>\n",
       "</table>\n",
       "</div>"
      ],
      "text/plain": [
       "                   ideo_count  ideo_weight  count*weight\n",
       "F_IDEO_FINAL                                            \n",
       "Conservative              797         -0.5        -398.5\n",
       "Liberal                   632          0.5         316.0\n",
       "Moderate                 1224          0.0           0.0\n",
       "Very conservative         270         -1.0        -270.0\n",
       "Very liberal              220          1.0         220.0"
      ]
     },
     "execution_count": 133,
     "metadata": {},
     "output_type": "execute_result"
    }
   ],
   "source": [
    "df['ideo_count'] = 0\n",
    "df_ideo = df.groupby('F_IDEO_FINAL').count()['ideo_count']\n",
    "df_ideo = df_ideo.to_frame()\n",
    "# df_ideo = df_ideo.reset_index()\n",
    "# df_ideo['weight'] = \n",
    "df_ideo.loc['Moderate', 'ideo_weight'] = 0\n",
    "df_ideo.loc['Conservative', 'ideo_weight'] = -0.5\n",
    "df_ideo.loc['Liberal', 'ideo_weight'] = 0.5\n",
    "df_ideo.loc['Very conservative', 'ideo_weight'] = -1\n",
    "df_ideo.loc['Very liberal', 'ideo_weight'] = 1\n",
    "df_ideo['count*weight'] = df_ideo['ideo_count'] * df_ideo['ideo_weight']\n",
    "df_ideo = df_ideo.drop('Don’t know/Refused')\n",
    "\n",
    "polarity_value = ((abs(df_ideo['ideo_count'] * df_ideo['ideo_weight'])).sum())/df_ideo['ideo_count'].sum()\n",
    "# df_ideo = df_ideo.dropna\n",
    "df_ideo"
   ]
  },
  {
   "cell_type": "code",
   "execution_count": 132,
   "metadata": {},
   "outputs": [
    {
     "data": {
      "text/plain": [
       "0.382745471877979"
      ]
     },
     "execution_count": 132,
     "metadata": {},
     "output_type": "execute_result"
    }
   ],
   "source": [
    "polarity_value"
   ]
  },
  {
   "cell_type": "code",
   "execution_count": null,
   "metadata": {},
   "outputs": [],
   "source": []
  }
 ],
 "metadata": {
  "kernelspec": {
   "display_name": "Python 3.9.12 ('base')",
   "language": "python",
   "name": "python3"
  },
  "language_info": {
   "codemirror_mode": {
    "name": "ipython",
    "version": 3
   },
   "file_extension": ".py",
   "mimetype": "text/x-python",
   "name": "python",
   "nbconvert_exporter": "python",
   "pygments_lexer": "ipython3",
   "version": "3.9.12"
  },
  "orig_nbformat": 4,
  "vscode": {
   "interpreter": {
    "hash": "2ec27bf143af148f5192d6d94576d06a442de5920e2acb9c666bbed19ace4bb3"
   }
  }
 },
 "nbformat": 4,
 "nbformat_minor": 2
}
