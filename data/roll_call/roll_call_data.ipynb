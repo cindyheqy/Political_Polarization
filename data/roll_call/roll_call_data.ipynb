{
 "cells": [
  {
   "cell_type": "code",
   "execution_count": 1,
   "metadata": {},
   "outputs": [],
   "source": [
    "import pandas as pd\n",
    "import os\n",
    "import re"
   ]
  },
  {
   "cell_type": "code",
   "execution_count": 2,
   "metadata": {},
   "outputs": [],
   "source": [
    "path = '/Users/guangbo_niu/Library/Mobile Documents/com~apple~CloudDocs/Academics/Autumn 2022/DPPP 2/Political_Polarization/data'\n",
    "rollcalls_data = pd.read_csv(os.path.join(path, 'roll_call/Hall_rollcalls.csv'), low_memory=False)\n",
    "members_data = pd.read_csv(os.path.join(path, 'roll_call/Hall_members.csv'))\n",
    "h113_votes = pd.read_csv(os.path.join(path, 'roll_call/H113_votes.csv'))\n",
    "h114_votes = pd.read_csv(os.path.join(path, 'roll_call/H114_votes.csv'))\n",
    "h115_votes = pd.read_csv(os.path.join(path, 'roll_call/H115_votes.csv'))"
   ]
  },
  {
   "cell_type": "code",
   "execution_count": 3,
   "metadata": {},
   "outputs": [],
   "source": [
    "# merge votes, members data, and roll call data\n",
    "def merge_votes_members_rollcalls(votes, members, roll_calls, congress):\n",
    "    df = pd.merge(votes, \n",
    "                  members[members['congress']==congress].loc[:, ['icpsr', 'party_code']], \n",
    "                  on='icpsr')\n",
    "    df = pd.merge(df, \n",
    "                  roll_calls[roll_calls['congress']==congress].loc[:, ['rollnumber', 'date', 'bill_number', 'vote_result', 'vote_desc', 'vote_question']],\n",
    "                  on='rollnumber')\n",
    "    #df['rollnumber']=df['congress'].astype(str) + '_' + df['rollnumber'].astype(str)\n",
    "    return df\n",
    "    \n",
    "h113_votes = (merge_votes_members_rollcalls(h113_votes, members_data, rollcalls_data, 113))\n",
    "h114_votes = (merge_votes_members_rollcalls(h114_votes, members_data, rollcalls_data, 114))\n",
    "h115_votes = (merge_votes_members_rollcalls(h115_votes, members_data, rollcalls_data, 115))"
   ]
  },
  {
   "cell_type": "code",
   "execution_count": 6,
   "metadata": {},
   "outputs": [],
   "source": [
    "def tabulate_merge(df1, df2, df3):\n",
    "    def tab(df):\n",
    "        return df.groupby(['congress', 'rollnumber', 'date', 'cast_code'])['party_code'].value_counts()\n",
    "    df1 = tab(df1)\n",
    "    df2 = tab(df2)\n",
    "    df3 = tab(df3)\n",
    "    df_out = pd.DataFrame(pd.concat([df1, df2, df3], axis=0))\n",
    "    return df_out.rename({'party_code': 'counts'}, axis=1)\n",
    "\n",
    "\n",
    "votes_counts = tabulate_merge(h113_votes, h114_votes, h115_votes)"
   ]
  },
  {
   "cell_type": "code",
   "execution_count": 7,
   "metadata": {},
   "outputs": [
    {
     "data": {
      "text/html": [
       "<div>\n",
       "<style scoped>\n",
       "    .dataframe tbody tr th:only-of-type {\n",
       "        vertical-align: middle;\n",
       "    }\n",
       "\n",
       "    .dataframe tbody tr th {\n",
       "        vertical-align: top;\n",
       "    }\n",
       "\n",
       "    .dataframe thead th {\n",
       "        text-align: right;\n",
       "    }\n",
       "</style>\n",
       "<table border=\"1\" class=\"dataframe\">\n",
       "  <thead>\n",
       "    <tr style=\"text-align: right;\">\n",
       "      <th></th>\n",
       "      <th></th>\n",
       "      <th></th>\n",
       "      <th></th>\n",
       "      <th></th>\n",
       "      <th>counts</th>\n",
       "    </tr>\n",
       "    <tr>\n",
       "      <th>congress</th>\n",
       "      <th>rollnumber</th>\n",
       "      <th>date</th>\n",
       "      <th>cast_code</th>\n",
       "      <th>party_code</th>\n",
       "      <th></th>\n",
       "    </tr>\n",
       "  </thead>\n",
       "  <tbody>\n",
       "    <tr>\n",
       "      <th rowspan=\"5\" valign=\"top\">113</th>\n",
       "      <th rowspan=\"5\" valign=\"top\">1</th>\n",
       "      <th rowspan=\"5\" valign=\"top\">2013-01-03</th>\n",
       "      <th>1</th>\n",
       "      <th>200</th>\n",
       "      <td>220</td>\n",
       "    </tr>\n",
       "    <tr>\n",
       "      <th>6</th>\n",
       "      <th>100</th>\n",
       "      <td>192</td>\n",
       "    </tr>\n",
       "    <tr>\n",
       "      <th rowspan=\"2\" valign=\"top\">7</th>\n",
       "      <th>200</th>\n",
       "      <td>10</td>\n",
       "    </tr>\n",
       "    <tr>\n",
       "      <th>100</th>\n",
       "      <td>5</td>\n",
       "    </tr>\n",
       "    <tr>\n",
       "      <th>9</th>\n",
       "      <th>100</th>\n",
       "      <td>4</td>\n",
       "    </tr>\n",
       "    <tr>\n",
       "      <th>...</th>\n",
       "      <th>...</th>\n",
       "      <th>...</th>\n",
       "      <th>...</th>\n",
       "      <th>...</th>\n",
       "      <td>...</td>\n",
       "    </tr>\n",
       "    <tr>\n",
       "      <th rowspan=\"5\" valign=\"top\">115</th>\n",
       "      <th rowspan=\"5\" valign=\"top\">1207</th>\n",
       "      <th rowspan=\"5\" valign=\"top\">2018-12-21</th>\n",
       "      <th>1</th>\n",
       "      <th>200</th>\n",
       "      <td>152</td>\n",
       "    </tr>\n",
       "    <tr>\n",
       "      <th rowspan=\"2\" valign=\"top\">6</th>\n",
       "      <th>200</th>\n",
       "      <td>47</td>\n",
       "    </tr>\n",
       "    <tr>\n",
       "      <th>100</th>\n",
       "      <td>1</td>\n",
       "    </tr>\n",
       "    <tr>\n",
       "      <th rowspan=\"2\" valign=\"top\">9</th>\n",
       "      <th>200</th>\n",
       "      <td>36</td>\n",
       "    </tr>\n",
       "    <tr>\n",
       "      <th>100</th>\n",
       "      <td>33</td>\n",
       "    </tr>\n",
       "  </tbody>\n",
       "</table>\n",
       "<p>19835 rows × 1 columns</p>\n",
       "</div>"
      ],
      "text/plain": [
       "                                                     counts\n",
       "congress rollnumber date       cast_code party_code        \n",
       "113      1          2013-01-03 1         200            220\n",
       "                               6         100            192\n",
       "                               7         200             10\n",
       "                                         100              5\n",
       "                               9         100              4\n",
       "...                                                     ...\n",
       "115      1207       2018-12-21 1         200            152\n",
       "                               6         200             47\n",
       "                                         100              1\n",
       "                               9         200             36\n",
       "                                         100             33\n",
       "\n",
       "[19835 rows x 1 columns]"
      ]
     },
     "execution_count": 7,
     "metadata": {},
     "output_type": "execute_result"
    }
   ],
   "source": [
    "votes_counts"
   ]
  }
 ],
 "metadata": {
  "kernelspec": {
   "display_name": "Python 3.10.8 ('nlp')",
   "language": "python",
   "name": "python3"
  },
  "language_info": {
   "codemirror_mode": {
    "name": "ipython",
    "version": 3
   },
   "file_extension": ".py",
   "mimetype": "text/x-python",
   "name": "python",
   "nbconvert_exporter": "python",
   "pygments_lexer": "ipython3",
   "version": "3.10.8"
  },
  "orig_nbformat": 4,
  "vscode": {
   "interpreter": {
    "hash": "acd11fc43d6b3c22c863222fc9dd594b0ee9b39210bda894a5aa19999fd86b8a"
   }
  }
 },
 "nbformat": 4,
 "nbformat_minor": 2
}
